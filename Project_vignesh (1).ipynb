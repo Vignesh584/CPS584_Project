{
  "cells": [
    {
      "cell_type": "markdown",
      "metadata": {
        "id": "oN1wKbYIDkD6"
      },
      "source": [
        "A. Image Generation( Text to Image )"
      ]
    },
    {
      "cell_type": "code",
      "execution_count": 1,
      "metadata": {
        "colab": {
          "base_uri": "https://localhost:8080/"
        },
        "id": "ZzDetaaqDvN8",
        "outputId": "98d2acb1-e6e4-4a14-a716-4b4666edc106"
      },
      "outputs": [
        {
          "output_type": "stream",
          "name": "stdout",
          "text": [
            "Fri Jul 19 02:04:48 2024       \n",
            "+---------------------------------------------------------------------------------------+\n",
            "| NVIDIA-SMI 535.104.05             Driver Version: 535.104.05   CUDA Version: 12.2     |\n",
            "|-----------------------------------------+----------------------+----------------------+\n",
            "| GPU  Name                 Persistence-M | Bus-Id        Disp.A | Volatile Uncorr. ECC |\n",
            "| Fan  Temp   Perf          Pwr:Usage/Cap |         Memory-Usage | GPU-Util  Compute M. |\n",
            "|                                         |                      |               MIG M. |\n",
            "|=========================================+======================+======================|\n",
            "|   0  Tesla T4                       Off | 00000000:00:04.0 Off |                    0 |\n",
            "| N/A   48C    P8              11W /  70W |      0MiB / 15360MiB |      0%      Default |\n",
            "|                                         |                      |                  N/A |\n",
            "+-----------------------------------------+----------------------+----------------------+\n",
            "                                                                                         \n",
            "+---------------------------------------------------------------------------------------+\n",
            "| Processes:                                                                            |\n",
            "|  GPU   GI   CI        PID   Type   Process name                            GPU Memory |\n",
            "|        ID   ID                                                             Usage      |\n",
            "|=======================================================================================|\n",
            "|  No running processes found                                                           |\n",
            "+---------------------------------------------------------------------------------------+\n"
          ]
        }
      ],
      "source": [
        "!nvidia-smi"
      ]
    },
    {
      "cell_type": "code",
      "execution_count": 12,
      "metadata": {
        "id": "To6IcIWBIfIM",
        "colab": {
          "base_uri": "https://localhost:8080/"
        },
        "outputId": "fbb7a510-0ee4-463f-96ab-a8852b3f068a"
      },
      "outputs": [
        {
          "output_type": "stream",
          "name": "stdout",
          "text": [
            "Requirement already satisfied: pydub in /usr/local/lib/python3.10/dist-packages (0.25.1)\n"
          ]
        }
      ],
      "source": [
        "!pip install pydub\n"
      ]
    },
    {
      "cell_type": "code",
      "source": [
        "!update-alternatives --install /usr/local/bin/python3 python3 /usr/bin/python3.8 2\n",
        "!update-alternatives --install /usr/local/bin/python3 python3 /usr/bin/python3.9 1\n",
        "!sudo apt install python3.8\n",
        "\n",
        "!sudo apt-get install python3.8-distutils\n",
        "\n",
        "!python --version\n",
        "\n",
        "!apt-get update\n",
        "\n",
        "!apt install software-properties-common\n",
        "\n",
        "!sudo dpkg --remove --force-remove-reinstreq python3-pip python3-setuptools python3-wheel\n",
        "\n",
        "!apt-get install python3-pip\n",
        "\n",
        "print('Git clone project and install requirements...')\n",
        "!git clone https://github.com/Winfredy/SadTalker &> /dev/null\n",
        "%cd SadTalker\n",
        "!export PYTHONPATH=/content/SadTalker:$PYTHONPATH\n",
        "!python3.8 -m pip install torch==1.12.1+cu113 torchvision==0.13.1+cu113 torchaudio==0.12.1 --extra-index-url https://download.pytorch.org/whl/cu113\n",
        "!apt update\n",
        "!apt install ffmpeg &> /dev/null\n",
        "!python3.8 -m pip install -r requirements.txt"
      ],
      "metadata": {
        "colab": {
          "base_uri": "https://localhost:8080/"
        },
        "id": "twn8tZxkwKu9",
        "outputId": "3f138651-c0c3-4b1d-b3f7-2c99e176b257"
      },
      "execution_count": 13,
      "outputs": [
        {
          "output_type": "stream",
          "name": "stdout",
          "text": [
            "update-alternatives: error: alternative path /usr/bin/python3.9 doesn't exist\n",
            "Reading package lists... Done\n",
            "Building dependency tree... Done\n",
            "Reading state information... Done\n",
            "python3.8 is already the newest version (3.8.19-1+jammy1).\n",
            "0 upgraded, 0 newly installed, 0 to remove and 54 not upgraded.\n",
            "Reading package lists... Done\n",
            "Building dependency tree... Done\n",
            "Reading state information... Done\n",
            "python3.8-distutils is already the newest version (3.8.19-1+jammy1).\n",
            "0 upgraded, 0 newly installed, 0 to remove and 54 not upgraded.\n",
            "Python 3.8.19\n",
            "Hit:1 http://archive.ubuntu.com/ubuntu jammy InRelease\n",
            "Hit:2 http://archive.ubuntu.com/ubuntu jammy-updates InRelease\n",
            "Hit:3 http://archive.ubuntu.com/ubuntu jammy-backports InRelease\n",
            "Hit:4 https://cloud.r-project.org/bin/linux/ubuntu jammy-cran40/ InRelease\n",
            "Hit:5 https://developer.download.nvidia.com/compute/cuda/repos/ubuntu2204/x86_64  InRelease\n",
            "Hit:6 https://ppa.launchpadcontent.net/deadsnakes/ppa/ubuntu jammy InRelease\n",
            "Hit:7 https://ppa.launchpadcontent.net/graphics-drivers/ppa/ubuntu jammy InRelease\n",
            "Hit:8 https://ppa.launchpadcontent.net/ubuntugis/ppa/ubuntu jammy InRelease\n",
            "Hit:9 http://security.ubuntu.com/ubuntu jammy-security InRelease\n",
            "Ign:10 https://r2u.stat.illinois.edu/ubuntu jammy InRelease\n",
            "Hit:11 https://r2u.stat.illinois.edu/ubuntu jammy Release\n",
            "Reading package lists... Done\n",
            "W: Skipping acquire of configured file 'main/source/Sources' as repository 'https://r2u.stat.illinois.edu/ubuntu jammy InRelease' does not seem to provide it (sources.list entry misspelt?)\n",
            "Reading package lists... Done\n",
            "Building dependency tree... Done\n",
            "Reading state information... Done\n",
            "software-properties-common is already the newest version (0.99.22.9).\n",
            "0 upgraded, 0 newly installed, 0 to remove and 54 not upgraded.\n",
            "(Reading database ... 125238 files and directories currently installed.)\n",
            "Removing python3-pip (22.0.2+dfsg-1ubuntu0.4) ...\n",
            "Removing python3-setuptools (59.6.0-1.2ubuntu0.22.04.1) ...\n",
            "Removing python3-wheel (0.37.1-2ubuntu0.22.04.1) ...\n",
            "Processing triggers for man-db (2.10.2-1) ...\n",
            "Reading package lists... Done\n",
            "Building dependency tree... Done\n",
            "Reading state information... Done\n",
            "The following additional packages will be installed:\n",
            "  python3-setuptools python3-wheel\n",
            "Suggested packages:\n",
            "  python-setuptools-doc\n",
            "The following NEW packages will be installed:\n",
            "  python3-pip python3-setuptools python3-wheel\n",
            "0 upgraded, 3 newly installed, 0 to remove and 54 not upgraded.\n",
            "Need to get 1,677 kB of archives.\n",
            "After this operation, 8,967 kB of additional disk space will be used.\n",
            "Get:1 http://archive.ubuntu.com/ubuntu jammy-updates/main amd64 python3-setuptools all 59.6.0-1.2ubuntu0.22.04.1 [339 kB]\n",
            "Get:2 http://archive.ubuntu.com/ubuntu jammy-updates/universe amd64 python3-wheel all 0.37.1-2ubuntu0.22.04.1 [32.0 kB]\n",
            "Get:3 http://archive.ubuntu.com/ubuntu jammy-updates/universe amd64 python3-pip all 22.0.2+dfsg-1ubuntu0.4 [1,305 kB]\n",
            "Fetched 1,677 kB in 0s (12.8 MB/s)\n",
            "Selecting previously unselected package python3-setuptools.\n",
            "(Reading database ... 124376 files and directories currently installed.)\n",
            "Preparing to unpack .../python3-setuptools_59.6.0-1.2ubuntu0.22.04.1_all.deb ...\n",
            "Unpacking python3-setuptools (59.6.0-1.2ubuntu0.22.04.1) ...\n",
            "Selecting previously unselected package python3-wheel.\n",
            "Preparing to unpack .../python3-wheel_0.37.1-2ubuntu0.22.04.1_all.deb ...\n",
            "Unpacking python3-wheel (0.37.1-2ubuntu0.22.04.1) ...\n",
            "Selecting previously unselected package python3-pip.\n",
            "Preparing to unpack .../python3-pip_22.0.2+dfsg-1ubuntu0.4_all.deb ...\n",
            "Unpacking python3-pip (22.0.2+dfsg-1ubuntu0.4) ...\n",
            "Setting up python3-setuptools (59.6.0-1.2ubuntu0.22.04.1) ...\n",
            "Setting up python3-wheel (0.37.1-2ubuntu0.22.04.1) ...\n",
            "Setting up python3-pip (22.0.2+dfsg-1ubuntu0.4) ...\n",
            "Processing triggers for man-db (2.10.2-1) ...\n",
            "Git clone project and install requirements...\n",
            "/content/SadTalker\n",
            "Looking in indexes: https://pypi.org/simple, https://download.pytorch.org/whl/cu113\n",
            "Requirement already satisfied: torch==1.12.1+cu113 in /usr/local/lib/python3.8/dist-packages (1.12.1+cu113)\n",
            "Requirement already satisfied: torchvision==0.13.1+cu113 in /usr/local/lib/python3.8/dist-packages (0.13.1+cu113)\n",
            "Requirement already satisfied: torchaudio==0.12.1 in /usr/local/lib/python3.8/dist-packages (0.12.1+cu113)\n",
            "Requirement already satisfied: typing-extensions in /usr/local/lib/python3.8/dist-packages (from torch==1.12.1+cu113) (4.12.2)\n",
            "Requirement already satisfied: requests in /usr/local/lib/python3.8/dist-packages (from torchvision==0.13.1+cu113) (2.32.3)\n",
            "Requirement already satisfied: numpy in /usr/local/lib/python3.8/dist-packages (from torchvision==0.13.1+cu113) (1.23.4)\n",
            "Requirement already satisfied: pillow!=8.3.*,>=5.3.0 in /usr/local/lib/python3.8/dist-packages (from torchvision==0.13.1+cu113) (10.4.0)\n",
            "Requirement already satisfied: certifi>=2017.4.17 in /usr/local/lib/python3.8/dist-packages (from requests->torchvision==0.13.1+cu113) (2024.7.4)\n",
            "Requirement already satisfied: urllib3<3,>=1.21.1 in /usr/local/lib/python3.8/dist-packages (from requests->torchvision==0.13.1+cu113) (2.2.2)\n",
            "Requirement already satisfied: idna<4,>=2.5 in /usr/local/lib/python3.8/dist-packages (from requests->torchvision==0.13.1+cu113) (3.7)\n",
            "Requirement already satisfied: charset-normalizer<4,>=2 in /usr/local/lib/python3.8/dist-packages (from requests->torchvision==0.13.1+cu113) (3.3.2)\n",
            "\u001b[33mWARNING: Running pip as the 'root' user can result in broken permissions and conflicting behaviour with the system package manager. It is recommended to use a virtual environment instead: https://pip.pypa.io/warnings/venv\u001b[0m\u001b[33m\n",
            "Hit:1 http://security.ubuntu.com/ubuntu jammy-security InRelease\n",
            "Hit:2 http://archive.ubuntu.com/ubuntu jammy InRelease\n",
            "Hit:3 http://archive.ubuntu.com/ubuntu jammy-updates InRelease\n",
            "Hit:4 http://archive.ubuntu.com/ubuntu jammy-backports InRelease\n",
            "Hit:5 https://cloud.r-project.org/bin/linux/ubuntu jammy-cran40/ InRelease\n",
            "Hit:6 https://developer.download.nvidia.com/compute/cuda/repos/ubuntu2204/x86_64  InRelease\n",
            "Hit:7 https://ppa.launchpadcontent.net/deadsnakes/ppa/ubuntu jammy InRelease\n",
            "Hit:8 https://ppa.launchpadcontent.net/graphics-drivers/ppa/ubuntu jammy InRelease\n",
            "Hit:9 https://ppa.launchpadcontent.net/ubuntugis/ppa/ubuntu jammy InRelease\n",
            "Ign:10 https://r2u.stat.illinois.edu/ubuntu jammy InRelease\n",
            "Hit:11 https://r2u.stat.illinois.edu/ubuntu jammy Release\n",
            "Reading package lists... Done\n",
            "Building dependency tree... Done\n",
            "Reading state information... Done\n",
            "54 packages can be upgraded. Run 'apt list --upgradable' to see them.\n",
            "\u001b[1;33mW: \u001b[0mSkipping acquire of configured file 'main/source/Sources' as repository 'https://r2u.stat.illinois.edu/ubuntu jammy InRelease' does not seem to provide it (sources.list entry misspelt?)\u001b[0m\n",
            "Requirement already satisfied: numpy==1.23.4 in /usr/local/lib/python3.8/dist-packages (from -r requirements.txt (line 1)) (1.23.4)\n",
            "Requirement already satisfied: face_alignment==1.3.5 in /usr/local/lib/python3.8/dist-packages (from -r requirements.txt (line 2)) (1.3.5)\n",
            "Requirement already satisfied: imageio==2.19.3 in /usr/local/lib/python3.8/dist-packages (from -r requirements.txt (line 3)) (2.19.3)\n",
            "Requirement already satisfied: imageio-ffmpeg==0.4.7 in /usr/local/lib/python3.8/dist-packages (from -r requirements.txt (line 4)) (0.4.7)\n",
            "Requirement already satisfied: librosa==0.9.2 in /usr/local/lib/python3.8/dist-packages (from -r requirements.txt (line 5)) (0.9.2)\n",
            "Requirement already satisfied: numba in /usr/local/lib/python3.8/dist-packages (from -r requirements.txt (line 6)) (0.58.1)\n",
            "Requirement already satisfied: resampy==0.3.1 in /usr/local/lib/python3.8/dist-packages (from -r requirements.txt (line 7)) (0.3.1)\n",
            "Requirement already satisfied: pydub==0.25.1 in /usr/local/lib/python3.8/dist-packages (from -r requirements.txt (line 8)) (0.25.1)\n",
            "Requirement already satisfied: scipy==1.10.1 in /usr/local/lib/python3.8/dist-packages (from -r requirements.txt (line 9)) (1.10.1)\n",
            "Requirement already satisfied: kornia==0.6.8 in /usr/local/lib/python3.8/dist-packages (from -r requirements.txt (line 10)) (0.6.8)\n",
            "Requirement already satisfied: tqdm in /usr/local/lib/python3.8/dist-packages (from -r requirements.txt (line 11)) (4.66.4)\n",
            "Requirement already satisfied: yacs==0.1.8 in /usr/local/lib/python3.8/dist-packages (from -r requirements.txt (line 12)) (0.1.8)\n",
            "Requirement already satisfied: pyyaml in /usr/local/lib/python3.8/dist-packages (from -r requirements.txt (line 13)) (6.0.1)\n",
            "Requirement already satisfied: joblib==1.1.0 in /usr/local/lib/python3.8/dist-packages (from -r requirements.txt (line 14)) (1.1.0)\n",
            "Requirement already satisfied: scikit-image==0.19.3 in /usr/local/lib/python3.8/dist-packages (from -r requirements.txt (line 15)) (0.19.3)\n",
            "Requirement already satisfied: basicsr==1.4.2 in /usr/local/lib/python3.8/dist-packages (from -r requirements.txt (line 16)) (1.4.2)\n",
            "Requirement already satisfied: facexlib==0.3.0 in /usr/local/lib/python3.8/dist-packages (from -r requirements.txt (line 17)) (0.3.0)\n",
            "Requirement already satisfied: gradio in /usr/local/lib/python3.8/dist-packages (from -r requirements.txt (line 18)) (4.38.1)\n",
            "Requirement already satisfied: gfpgan in /usr/local/lib/python3.8/dist-packages (from -r requirements.txt (line 19)) (1.3.8)\n",
            "Requirement already satisfied: av in /usr/local/lib/python3.8/dist-packages (from -r requirements.txt (line 20)) (12.2.0)\n",
            "Requirement already satisfied: safetensors in /usr/local/lib/python3.8/dist-packages (from -r requirements.txt (line 21)) (0.4.3)\n",
            "Requirement already satisfied: torch in /usr/local/lib/python3.8/dist-packages (from face_alignment==1.3.5->-r requirements.txt (line 2)) (1.12.1+cu113)\n",
            "Requirement already satisfied: opencv-python in /usr/local/lib/python3.8/dist-packages (from face_alignment==1.3.5->-r requirements.txt (line 2)) (4.10.0.84)\n",
            "Requirement already satisfied: pillow>=8.3.2 in /usr/local/lib/python3.8/dist-packages (from imageio==2.19.3->-r requirements.txt (line 3)) (10.4.0)\n",
            "Requirement already satisfied: packaging>=20.0 in /usr/local/lib/python3.8/dist-packages (from librosa==0.9.2->-r requirements.txt (line 5)) (24.1)\n",
            "Requirement already satisfied: soundfile>=0.10.2 in /usr/local/lib/python3.8/dist-packages (from librosa==0.9.2->-r requirements.txt (line 5)) (0.12.1)\n",
            "Requirement already satisfied: audioread>=2.1.9 in /usr/local/lib/python3.8/dist-packages (from librosa==0.9.2->-r requirements.txt (line 5)) (3.0.1)\n",
            "Requirement already satisfied: decorator>=4.0.10 in /usr/local/lib/python3.8/dist-packages (from librosa==0.9.2->-r requirements.txt (line 5)) (5.1.1)\n",
            "Requirement already satisfied: scikit-learn>=0.19.1 in /usr/local/lib/python3.8/dist-packages (from librosa==0.9.2->-r requirements.txt (line 5)) (1.1.3)\n",
            "Requirement already satisfied: pooch>=1.0 in /usr/local/lib/python3.8/dist-packages (from librosa==0.9.2->-r requirements.txt (line 5)) (1.8.2)\n",
            "Requirement already satisfied: networkx>=2.2 in /usr/local/lib/python3.8/dist-packages (from scikit-image==0.19.3->-r requirements.txt (line 15)) (3.1)\n",
            "Requirement already satisfied: tifffile>=2019.7.26 in /usr/local/lib/python3.8/dist-packages (from scikit-image==0.19.3->-r requirements.txt (line 15)) (2023.7.10)\n",
            "Requirement already satisfied: PyWavelets>=1.1.1 in /usr/local/lib/python3.8/dist-packages (from scikit-image==0.19.3->-r requirements.txt (line 15)) (1.4.1)\n",
            "Requirement already satisfied: lmdb in /usr/local/lib/python3.8/dist-packages (from basicsr==1.4.2->-r requirements.txt (line 16)) (1.5.1)\n",
            "Requirement already satisfied: requests in /usr/local/lib/python3.8/dist-packages (from basicsr==1.4.2->-r requirements.txt (line 16)) (2.32.3)\n",
            "Requirement already satisfied: torchvision in /usr/local/lib/python3.8/dist-packages (from basicsr==1.4.2->-r requirements.txt (line 16)) (0.13.1+cu113)\n",
            "Requirement already satisfied: tb-nightly in /usr/local/lib/python3.8/dist-packages (from basicsr==1.4.2->-r requirements.txt (line 16)) (2.14.0a20230808)\n",
            "Requirement already satisfied: future in /usr/local/lib/python3.8/dist-packages (from basicsr==1.4.2->-r requirements.txt (line 16)) (1.0.0)\n",
            "Requirement already satisfied: yapf in /usr/local/lib/python3.8/dist-packages (from basicsr==1.4.2->-r requirements.txt (line 16)) (0.40.2)\n",
            "Requirement already satisfied: addict in /usr/local/lib/python3.8/dist-packages (from basicsr==1.4.2->-r requirements.txt (line 16)) (2.4.0)\n",
            "Requirement already satisfied: filterpy in /usr/local/lib/python3.8/dist-packages (from facexlib==0.3.0->-r requirements.txt (line 17)) (1.4.5)\n",
            "Requirement already satisfied: llvmlite<0.42,>=0.41.0dev0 in /usr/local/lib/python3.8/dist-packages (from numba->-r requirements.txt (line 6)) (0.41.1)\n",
            "Requirement already satisfied: importlib-metadata in /usr/local/lib/python3.8/dist-packages (from numba->-r requirements.txt (line 6)) (8.0.0)\n",
            "Requirement already satisfied: gradio-client==1.1.0 in /usr/local/lib/python3.8/dist-packages (from gradio->-r requirements.txt (line 18)) (1.1.0)\n",
            "Requirement already satisfied: aiofiles<24.0,>=22.0 in /usr/local/lib/python3.8/dist-packages (from gradio->-r requirements.txt (line 18)) (23.2.1)\n",
            "Requirement already satisfied: ffmpy in /usr/local/lib/python3.8/dist-packages (from gradio->-r requirements.txt (line 18)) (0.3.2)\n",
            "Requirement already satisfied: jinja2<4.0 in /usr/local/lib/python3.8/dist-packages (from gradio->-r requirements.txt (line 18)) (3.1.4)\n",
            "Requirement already satisfied: semantic-version~=2.0 in /usr/local/lib/python3.8/dist-packages (from gradio->-r requirements.txt (line 18)) (2.10.0)\n",
            "Requirement already satisfied: matplotlib~=3.0 in /usr/local/lib/python3.8/dist-packages (from gradio->-r requirements.txt (line 18)) (3.7.5)\n",
            "Requirement already satisfied: tomlkit==0.12.0 in /usr/local/lib/python3.8/dist-packages (from gradio->-r requirements.txt (line 18)) (0.12.0)\n",
            "Requirement already satisfied: typer<1.0,>=0.12 in /usr/local/lib/python3.8/dist-packages (from gradio->-r requirements.txt (line 18)) (0.12.3)\n",
            "Requirement already satisfied: python-multipart>=0.0.9 in /usr/local/lib/python3.8/dist-packages (from gradio->-r requirements.txt (line 18)) (0.0.9)\n",
            "Requirement already satisfied: importlib-resources<7.0,>=1.3 in /usr/local/lib/python3.8/dist-packages (from gradio->-r requirements.txt (line 18)) (6.4.0)\n",
            "Requirement already satisfied: typing-extensions~=4.0 in /usr/local/lib/python3.8/dist-packages (from gradio->-r requirements.txt (line 18)) (4.12.2)\n",
            "Requirement already satisfied: ruff>=0.2.2 in /usr/local/lib/python3.8/dist-packages (from gradio->-r requirements.txt (line 18)) (0.5.3)\n",
            "Requirement already satisfied: huggingface-hub>=0.19.3 in /usr/local/lib/python3.8/dist-packages (from gradio->-r requirements.txt (line 18)) (0.24.0)\n",
            "Requirement already satisfied: uvicorn>=0.14.0 in /usr/local/lib/python3.8/dist-packages (from gradio->-r requirements.txt (line 18)) (0.30.1)\n",
            "Requirement already satisfied: fastapi in /usr/local/lib/python3.8/dist-packages (from gradio->-r requirements.txt (line 18)) (0.111.1)\n",
            "Requirement already satisfied: httpx>=0.24.1 in /usr/local/lib/python3.8/dist-packages (from gradio->-r requirements.txt (line 18)) (0.27.0)\n",
            "Requirement already satisfied: markupsafe~=2.0 in /usr/local/lib/python3.8/dist-packages (from gradio->-r requirements.txt (line 18)) (2.1.5)\n",
            "Requirement already satisfied: orjson~=3.0 in /usr/local/lib/python3.8/dist-packages (from gradio->-r requirements.txt (line 18)) (3.10.6)\n",
            "Requirement already satisfied: altair<6.0,>=5.0 in /usr/local/lib/python3.8/dist-packages (from gradio->-r requirements.txt (line 18)) (5.3.0)\n",
            "Requirement already satisfied: pydantic>=2.0 in /usr/local/lib/python3.8/dist-packages (from gradio->-r requirements.txt (line 18)) (2.8.2)\n",
            "Requirement already satisfied: urllib3~=2.0 in /usr/local/lib/python3.8/dist-packages (from gradio->-r requirements.txt (line 18)) (2.2.2)\n",
            "Requirement already satisfied: pandas<3.0,>=1.0 in /usr/local/lib/python3.8/dist-packages (from gradio->-r requirements.txt (line 18)) (2.0.3)\n",
            "Requirement already satisfied: fsspec in /usr/local/lib/python3.8/dist-packages (from gradio-client==1.1.0->gradio->-r requirements.txt (line 18)) (2024.6.1)\n",
            "Requirement already satisfied: websockets<12.0,>=10.0 in /usr/local/lib/python3.8/dist-packages (from gradio-client==1.1.0->gradio->-r requirements.txt (line 18)) (11.0.3)\n",
            "Requirement already satisfied: toolz in /usr/local/lib/python3.8/dist-packages (from altair<6.0,>=5.0->gradio->-r requirements.txt (line 18)) (0.12.1)\n",
            "Requirement already satisfied: jsonschema>=3.0 in /usr/local/lib/python3.8/dist-packages (from altair<6.0,>=5.0->gradio->-r requirements.txt (line 18)) (4.23.0)\n",
            "Requirement already satisfied: anyio in /usr/local/lib/python3.8/dist-packages (from httpx>=0.24.1->gradio->-r requirements.txt (line 18)) (4.4.0)\n",
            "Requirement already satisfied: certifi in /usr/local/lib/python3.8/dist-packages (from httpx>=0.24.1->gradio->-r requirements.txt (line 18)) (2024.7.4)\n",
            "Requirement already satisfied: httpcore==1.* in /usr/local/lib/python3.8/dist-packages (from httpx>=0.24.1->gradio->-r requirements.txt (line 18)) (1.0.5)\n",
            "Requirement already satisfied: sniffio in /usr/local/lib/python3.8/dist-packages (from httpx>=0.24.1->gradio->-r requirements.txt (line 18)) (1.3.1)\n",
            "Requirement already satisfied: idna in /usr/local/lib/python3.8/dist-packages (from httpx>=0.24.1->gradio->-r requirements.txt (line 18)) (3.7)\n",
            "Requirement already satisfied: h11<0.15,>=0.13 in /usr/local/lib/python3.8/dist-packages (from httpcore==1.*->httpx>=0.24.1->gradio->-r requirements.txt (line 18)) (0.14.0)\n",
            "Requirement already satisfied: filelock in /usr/local/lib/python3.8/dist-packages (from huggingface-hub>=0.19.3->gradio->-r requirements.txt (line 18)) (3.15.4)\n",
            "Requirement already satisfied: zipp>=3.1.0 in /usr/local/lib/python3.8/dist-packages (from importlib-resources<7.0,>=1.3->gradio->-r requirements.txt (line 18)) (3.19.2)\n",
            "Requirement already satisfied: python-dateutil>=2.7 in /usr/local/lib/python3.8/dist-packages (from matplotlib~=3.0->gradio->-r requirements.txt (line 18)) (2.9.0.post0)\n",
            "Requirement already satisfied: pyparsing>=2.3.1 in /usr/local/lib/python3.8/dist-packages (from matplotlib~=3.0->gradio->-r requirements.txt (line 18)) (3.1.2)\n",
            "Requirement already satisfied: fonttools>=4.22.0 in /usr/local/lib/python3.8/dist-packages (from matplotlib~=3.0->gradio->-r requirements.txt (line 18)) (4.53.1)\n",
            "Requirement already satisfied: kiwisolver>=1.0.1 in /usr/local/lib/python3.8/dist-packages (from matplotlib~=3.0->gradio->-r requirements.txt (line 18)) (1.4.5)\n",
            "Requirement already satisfied: contourpy>=1.0.1 in /usr/local/lib/python3.8/dist-packages (from matplotlib~=3.0->gradio->-r requirements.txt (line 18)) (1.1.1)\n",
            "Requirement already satisfied: cycler>=0.10 in /usr/local/lib/python3.8/dist-packages (from matplotlib~=3.0->gradio->-r requirements.txt (line 18)) (0.12.1)\n",
            "Requirement already satisfied: tzdata>=2022.1 in /usr/local/lib/python3.8/dist-packages (from pandas<3.0,>=1.0->gradio->-r requirements.txt (line 18)) (2024.1)\n",
            "Requirement already satisfied: pytz>=2020.1 in /usr/local/lib/python3.8/dist-packages (from pandas<3.0,>=1.0->gradio->-r requirements.txt (line 18)) (2024.1)\n",
            "Requirement already satisfied: platformdirs>=2.5.0 in /usr/local/lib/python3.8/dist-packages (from pooch>=1.0->librosa==0.9.2->-r requirements.txt (line 5)) (4.2.2)\n",
            "Requirement already satisfied: annotated-types>=0.4.0 in /usr/local/lib/python3.8/dist-packages (from pydantic>=2.0->gradio->-r requirements.txt (line 18)) (0.7.0)\n",
            "Requirement already satisfied: pydantic-core==2.20.1 in /usr/local/lib/python3.8/dist-packages (from pydantic>=2.0->gradio->-r requirements.txt (line 18)) (2.20.1)\n",
            "Requirement already satisfied: charset-normalizer<4,>=2 in /usr/local/lib/python3.8/dist-packages (from requests->basicsr==1.4.2->-r requirements.txt (line 16)) (3.3.2)\n",
            "Requirement already satisfied: threadpoolctl>=2.0.0 in /usr/local/lib/python3.8/dist-packages (from scikit-learn>=0.19.1->librosa==0.9.2->-r requirements.txt (line 5)) (3.5.0)\n",
            "Requirement already satisfied: cffi>=1.0 in /usr/local/lib/python3.8/dist-packages (from soundfile>=0.10.2->librosa==0.9.2->-r requirements.txt (line 5)) (1.16.0)\n",
            "Requirement already satisfied: shellingham>=1.3.0 in /usr/local/lib/python3.8/dist-packages (from typer<1.0,>=0.12->gradio->-r requirements.txt (line 18)) (1.5.4)\n",
            "Requirement already satisfied: click>=8.0.0 in /usr/local/lib/python3.8/dist-packages (from typer<1.0,>=0.12->gradio->-r requirements.txt (line 18)) (8.1.7)\n",
            "Requirement already satisfied: rich>=10.11.0 in /usr/local/lib/python3.8/dist-packages (from typer<1.0,>=0.12->gradio->-r requirements.txt (line 18)) (13.7.1)\n",
            "Requirement already satisfied: fastapi-cli>=0.0.2 in /usr/local/lib/python3.8/dist-packages (from fastapi->gradio->-r requirements.txt (line 18)) (0.0.4)\n",
            "Requirement already satisfied: email_validator>=2.0.0 in /usr/local/lib/python3.8/dist-packages (from fastapi->gradio->-r requirements.txt (line 18)) (2.2.0)\n",
            "Requirement already satisfied: starlette<0.38.0,>=0.37.2 in /usr/local/lib/python3.8/dist-packages (from fastapi->gradio->-r requirements.txt (line 18)) (0.37.2)\n",
            "Requirement already satisfied: setuptools>=41.0.0 in /usr/lib/python3/dist-packages (from tb-nightly->basicsr==1.4.2->-r requirements.txt (line 16)) (59.6.0)\n",
            "Requirement already satisfied: markdown>=2.6.8 in /usr/local/lib/python3.8/dist-packages (from tb-nightly->basicsr==1.4.2->-r requirements.txt (line 16)) (3.6)\n",
            "Requirement already satisfied: google-auth-oauthlib<1.1,>=0.5 in /usr/local/lib/python3.8/dist-packages (from tb-nightly->basicsr==1.4.2->-r requirements.txt (line 16)) (1.0.0)\n",
            "Requirement already satisfied: grpcio>=1.48.2 in /usr/local/lib/python3.8/dist-packages (from tb-nightly->basicsr==1.4.2->-r requirements.txt (line 16)) (1.65.1)\n",
            "Requirement already satisfied: tensorboard-data-server<0.8.0,>=0.7.0 in /usr/local/lib/python3.8/dist-packages (from tb-nightly->basicsr==1.4.2->-r requirements.txt (line 16)) (0.7.2)\n",
            "Requirement already satisfied: absl-py>=0.4 in /usr/local/lib/python3.8/dist-packages (from tb-nightly->basicsr==1.4.2->-r requirements.txt (line 16)) (2.1.0)\n",
            "Requirement already satisfied: protobuf>=3.19.6 in /usr/local/lib/python3.8/dist-packages (from tb-nightly->basicsr==1.4.2->-r requirements.txt (line 16)) (5.27.2)\n",
            "Requirement already satisfied: wheel>=0.26 in /usr/lib/python3/dist-packages (from tb-nightly->basicsr==1.4.2->-r requirements.txt (line 16)) (0.37.1)\n",
            "Requirement already satisfied: google-auth<3,>=1.6.3 in /usr/local/lib/python3.8/dist-packages (from tb-nightly->basicsr==1.4.2->-r requirements.txt (line 16)) (2.32.0)\n",
            "Requirement already satisfied: werkzeug>=1.0.1 in /usr/local/lib/python3.8/dist-packages (from tb-nightly->basicsr==1.4.2->-r requirements.txt (line 16)) (3.0.3)\n",
            "Requirement already satisfied: tomli>=2.0.1 in /usr/local/lib/python3.8/dist-packages (from yapf->basicsr==1.4.2->-r requirements.txt (line 16)) (2.0.1)\n",
            "Requirement already satisfied: pycparser in /usr/local/lib/python3.8/dist-packages (from cffi>=1.0->soundfile>=0.10.2->librosa==0.9.2->-r requirements.txt (line 5)) (2.22)\n",
            "Requirement already satisfied: dnspython>=2.0.0 in /usr/local/lib/python3.8/dist-packages (from email_validator>=2.0.0->fastapi->gradio->-r requirements.txt (line 18)) (2.6.1)\n",
            "Requirement already satisfied: pyasn1-modules>=0.2.1 in /usr/local/lib/python3.8/dist-packages (from google-auth<3,>=1.6.3->tb-nightly->basicsr==1.4.2->-r requirements.txt (line 16)) (0.4.0)\n",
            "Requirement already satisfied: cachetools<6.0,>=2.0.0 in /usr/local/lib/python3.8/dist-packages (from google-auth<3,>=1.6.3->tb-nightly->basicsr==1.4.2->-r requirements.txt (line 16)) (5.4.0)\n",
            "Requirement already satisfied: rsa<5,>=3.1.4 in /usr/local/lib/python3.8/dist-packages (from google-auth<3,>=1.6.3->tb-nightly->basicsr==1.4.2->-r requirements.txt (line 16)) (4.9)\n",
            "Requirement already satisfied: requests-oauthlib>=0.7.0 in /usr/local/lib/python3.8/dist-packages (from google-auth-oauthlib<1.1,>=0.5->tb-nightly->basicsr==1.4.2->-r requirements.txt (line 16)) (2.0.0)\n",
            "Requirement already satisfied: jsonschema-specifications>=2023.03.6 in /usr/local/lib/python3.8/dist-packages (from jsonschema>=3.0->altair<6.0,>=5.0->gradio->-r requirements.txt (line 18)) (2023.12.1)\n",
            "Requirement already satisfied: attrs>=22.2.0 in /usr/local/lib/python3.8/dist-packages (from jsonschema>=3.0->altair<6.0,>=5.0->gradio->-r requirements.txt (line 18)) (23.2.0)\n",
            "Requirement already satisfied: pkgutil-resolve-name>=1.3.10 in /usr/local/lib/python3.8/dist-packages (from jsonschema>=3.0->altair<6.0,>=5.0->gradio->-r requirements.txt (line 18)) (1.3.10)\n",
            "Requirement already satisfied: referencing>=0.28.4 in /usr/local/lib/python3.8/dist-packages (from jsonschema>=3.0->altair<6.0,>=5.0->gradio->-r requirements.txt (line 18)) (0.35.1)\n",
            "Requirement already satisfied: rpds-py>=0.7.1 in /usr/local/lib/python3.8/dist-packages (from jsonschema>=3.0->altair<6.0,>=5.0->gradio->-r requirements.txt (line 18)) (0.19.0)\n",
            "Requirement already satisfied: six>=1.5 in /usr/lib/python3/dist-packages (from python-dateutil>=2.7->matplotlib~=3.0->gradio->-r requirements.txt (line 18)) (1.16.0)\n",
            "Requirement already satisfied: pygments<3.0.0,>=2.13.0 in /usr/local/lib/python3.8/dist-packages (from rich>=10.11.0->typer<1.0,>=0.12->gradio->-r requirements.txt (line 18)) (2.18.0)\n",
            "Requirement already satisfied: markdown-it-py>=2.2.0 in /usr/local/lib/python3.8/dist-packages (from rich>=10.11.0->typer<1.0,>=0.12->gradio->-r requirements.txt (line 18)) (3.0.0)\n",
            "Requirement already satisfied: exceptiongroup>=1.0.2 in /usr/local/lib/python3.8/dist-packages (from anyio->httpx>=0.24.1->gradio->-r requirements.txt (line 18)) (1.2.2)\n",
            "Requirement already satisfied: uvloop!=0.15.0,!=0.15.1,>=0.14.0 in /usr/local/lib/python3.8/dist-packages (from uvicorn>=0.14.0->gradio->-r requirements.txt (line 18)) (0.19.0)\n",
            "Requirement already satisfied: httptools>=0.5.0 in /usr/local/lib/python3.8/dist-packages (from uvicorn>=0.14.0->gradio->-r requirements.txt (line 18)) (0.6.1)\n",
            "Requirement already satisfied: watchfiles>=0.13 in /usr/local/lib/python3.8/dist-packages (from uvicorn>=0.14.0->gradio->-r requirements.txt (line 18)) (0.22.0)\n",
            "Requirement already satisfied: python-dotenv>=0.13 in /usr/local/lib/python3.8/dist-packages (from uvicorn>=0.14.0->gradio->-r requirements.txt (line 18)) (1.0.1)\n",
            "Requirement already satisfied: mdurl~=0.1 in /usr/local/lib/python3.8/dist-packages (from markdown-it-py>=2.2.0->rich>=10.11.0->typer<1.0,>=0.12->gradio->-r requirements.txt (line 18)) (0.1.2)\n",
            "Requirement already satisfied: pyasn1<0.7.0,>=0.4.6 in /usr/local/lib/python3.8/dist-packages (from pyasn1-modules>=0.2.1->google-auth<3,>=1.6.3->tb-nightly->basicsr==1.4.2->-r requirements.txt (line 16)) (0.6.0)\n",
            "Requirement already satisfied: oauthlib>=3.0.0 in /usr/local/lib/python3.8/dist-packages (from requests-oauthlib>=0.7.0->google-auth-oauthlib<1.1,>=0.5->tb-nightly->basicsr==1.4.2->-r requirements.txt (line 16)) (3.2.2)\n",
            "\u001b[33mWARNING: Running pip as the 'root' user can result in broken permissions and conflicting behaviour with the system package manager. It is recommended to use a virtual environment instead: https://pip.pypa.io/warnings/venv\u001b[0m\u001b[33m\n",
            "\u001b[0m"
          ]
        }
      ]
    },
    {
      "cell_type": "code",
      "source": [],
      "metadata": {
        "id": "rhI_IGgjwMra"
      },
      "execution_count": null,
      "outputs": []
    },
    {
      "cell_type": "code",
      "execution_count": 14,
      "metadata": {
        "colab": {
          "base_uri": "https://localhost:8080/"
        },
        "id": "qjkOGeXkn6T0",
        "outputId": "c3ddc3ef-4189-49f6-90b5-a1f7c14921b7"
      },
      "outputs": [
        {
          "output_type": "stream",
          "name": "stdout",
          "text": [
            "Cloning into 'CPS584_Project'...\n",
            "remote: Enumerating objects: 85, done.\u001b[K\n",
            "remote: Counting objects: 100% (85/85), done.\u001b[K\n",
            "remote: Compressing objects: 100% (82/82), done.\u001b[K\n",
            "remote: Total 85 (delta 14), reused 0 (delta 0), pack-reused 0\u001b[K\n",
            "Receiving objects: 100% (85/85), 229.22 KiB | 6.95 MiB/s, done.\n",
            "Resolving deltas: 100% (14/14), done.\n"
          ]
        }
      ],
      "source": [
        "!git clone https://github.com/Vignesh584/CPS584_Project.git"
      ]
    },
    {
      "cell_type": "code",
      "execution_count": 15,
      "metadata": {
        "id": "BgPK8h4BoDKf"
      },
      "outputs": [],
      "source": [
        "!cd /content/CPS584_Project"
      ]
    },
    {
      "cell_type": "code",
      "source": [
        "!pip install gradio -q"
      ],
      "metadata": {
        "id": "93qlxQqg7U5O"
      },
      "execution_count": 15,
      "outputs": []
    },
    {
      "cell_type": "code",
      "execution_count": null,
      "metadata": {
        "id": "da9LNwtEoFY7"
      },
      "outputs": [],
      "source": [
        "!python /content/CPS584_Project/app.py"
      ]
    }
  ],
  "metadata": {
    "accelerator": "GPU",
    "colab": {
      "gpuType": "T4",
      "provenance": []
    },
    "kernelspec": {
      "display_name": "Python 3",
      "name": "python3"
    },
    "language_info": {
      "name": "python"
    }
  },
  "nbformat": 4,
  "nbformat_minor": 0
}